{
 "cells": [
  {
   "cell_type": "code",
   "execution_count": 1,
   "metadata": {},
   "outputs": [],
   "source": [
    "import sympy as sym\n",
    "sym.init_printing()"
   ]
  },
  {
   "cell_type": "markdown",
   "metadata": {},
   "source": [
    "# [1]"
   ]
  },
  {
   "cell_type": "code",
   "execution_count": 2,
   "metadata": {},
   "outputs": [
    {
     "data": {
      "text/latex": [
       "$$\\left[\\begin{matrix}\\frac{R^{2} - 4 R l_{1} - 4 \\left(R - 2 l_{1}\\right) \\left(l_{1} + 2 l_{2}\\right)}{R^{2}} & 4 l_{1} + 4 l_{2} - \\frac{12 l_{1}^{2}}{R} - \\frac{16 l_{1} l_{2}}{R} + \\frac{8 l_{1}^{3}}{R^{2}} + \\frac{16 l_{1}^{2} l_{2}}{R^{2}}\\\\\\frac{4 \\left(- R + 2 l_{1} + 4 l_{2}\\right)}{R^{2}} & \\frac{R^{2} - 8 R l_{1} - 8 R l_{2} + 8 l_{1}^{2} + 16 l_{1} l_{2}}{R^{2}}\\end{matrix}\\right]$$"
      ],
      "text/plain": [
       "⎡ 2                                                         2                 \n",
       "⎢R  - 4⋅R⋅l₁ - 4⋅(R - 2⋅l₁)⋅(l₁ + 2⋅l₂)                12⋅l₁    16⋅l₁⋅l₂   8⋅l\n",
       "⎢──────────────────────────────────────  4⋅l₁ + 4⋅l₂ - ────── - ──────── + ───\n",
       "⎢                   2                                    R         R          \n",
       "⎢                  R                                                         R\n",
       "⎢                                                                             \n",
       "⎢                                               2                         2   \n",
       "⎢         4⋅(-R + 2⋅l₁ + 4⋅l₂)                 R  - 8⋅R⋅l₁ - 8⋅R⋅l₂ + 8⋅l₁  + \n",
       "⎢         ────────────────────                 ───────────────────────────────\n",
       "⎢                   2                                              2          \n",
       "⎣                  R                                              R           \n",
       "\n",
       " 3        2   ⎤\n",
       "₁    16⋅l₁ ⋅l₂⎥\n",
       "── + ─────────⎥\n",
       "2         2   ⎥\n",
       "         R    ⎥\n",
       "              ⎥\n",
       "              ⎥\n",
       "16⋅l₁⋅l₂      ⎥\n",
       "────────      ⎥\n",
       "              ⎥\n",
       "              ⎦"
      ]
     },
     "execution_count": 2,
     "metadata": {},
     "output_type": "execute_result"
    }
   ],
   "source": [
    "l1,l2,R = sym.symbols(\"l1 l2 R\")\n",
    "\n",
    "a=sym.Matrix([[1,l1],[0,1]])\n",
    "b=sym.Matrix([[1,0],[-2/R,1]])\n",
    "c=sym.Matrix([[1,2*(l1+2*l2)],[0,1]])\n",
    "X=a*b*c*b*a\n",
    "X.simplify()\n",
    "X"
   ]
  },
  {
   "cell_type": "markdown",
   "metadata": {},
   "source": [
    "# [5]"
   ]
  },
  {
   "cell_type": "code",
   "execution_count": 3,
   "metadata": {},
   "outputs": [
    {
     "data": {
      "text/latex": [
       "$$\\left[\\begin{matrix}-1 & 0\\\\\\frac{16 l_{2}}{R^{2}} & -1\\end{matrix}\\right]$$"
      ],
      "text/plain": [
       "⎡ -1    0 ⎤\n",
       "⎢         ⎥\n",
       "⎢16⋅l₂    ⎥\n",
       "⎢─────  -1⎥\n",
       "⎢   2     ⎥\n",
       "⎣  R      ⎦"
      ]
     },
     "execution_count": 3,
     "metadata": {},
     "output_type": "execute_result"
    }
   ],
   "source": [
    "X.subs(l1,R/2)"
   ]
  },
  {
   "cell_type": "markdown",
   "metadata": {},
   "source": [
    "# [7]"
   ]
  },
  {
   "cell_type": "code",
   "execution_count": 4,
   "metadata": {},
   "outputs": [
    {
     "data": {
      "text/latex": [
       "$$\\left[\\begin{matrix}- \\frac{2 l_{1}^{2}}{625} + \\frac{24 l_{1}}{25} - 23 & - \\frac{2 l_{1}^{3}}{625} + \\frac{26 l_{1}^{2}}{25} - 48 l_{1} + 600\\\\- \\frac{2 l_{1}}{625} + \\frac{22}{25} & - \\frac{2 l_{1}^{2}}{625} + \\frac{24 l_{1}}{25} - 23\\end{matrix}\\right]$$"
      ],
      "text/plain": [
       "⎡      2                     3        2              ⎤\n",
       "⎢  2⋅l₁    24⋅l₁         2⋅l₁    26⋅l₁               ⎥\n",
       "⎢- ───── + ───── - 23  - ───── + ────── - 48⋅l₁ + 600⎥\n",
       "⎢   625      25           625      25                ⎥\n",
       "⎢                                                    ⎥\n",
       "⎢                                 2                  ⎥\n",
       "⎢      2⋅l₁   22              2⋅l₁    24⋅l₁          ⎥\n",
       "⎢    - ──── + ──            - ───── + ───── - 23     ⎥\n",
       "⎣      625    25               625      25           ⎦"
      ]
     },
     "execution_count": 4,
     "metadata": {},
     "output_type": "execute_result"
    }
   ],
   "source": [
    "Y=X.subs(l2,sym.Rational(600,4)-l1)\n",
    "Y=Y.subs(R,50)\n",
    "Y.simplify()\n",
    "Y"
   ]
  },
  {
   "cell_type": "code",
   "execution_count": 5,
   "metadata": {},
   "outputs": [
    {
     "data": {
      "image/png": "[encoded data removed]",
      "text/latex": [
       "$$\\left [ 25, \\quad 275, \\quad - 50 \\sqrt{6} + 150, \\quad 50 \\sqrt{6} + 150\\right ]$$"
      ],
      "text/plain": [
       "[25, 275, -50⋅√6 + 150, 50⋅√6 + 150]"
      ]
     },
     "execution_count": 5,
     "metadata": {},
     "output_type": "execute_result"
    }
   ],
   "source": [
    "# D=(Y[0]-Y[3])**2+4*Y[1]*Y[2] \n",
    "D=Y[0]**2-1 #判別式\n",
    "D=D.simplify()\n",
    "sym.solve(D)"
   ]
  },
  {
   "cell_type": "code",
   "execution_count": 10,
   "metadata": {
    "scrolled": false
   },
   "outputs": [
    {
     "data": {
      "image/png": "[encoded data removed]",
      "text/plain": [
       "<Figure size 432x288 with 1 Axes>"
      ]
     },
     "metadata": {
      "needs_background": "light"
     },
     "output_type": "display_data"
    },
    {
     "data": {
      "text/plain": [
       "<sympy.plotting.plot.Plot at 0x1160315c0>"
      ]
     },
     "execution_count": 10,
     "metadata": {},
     "output_type": "execute_result"
    }
   ],
   "source": [
    "sym.plot(D,(l1,24.8,28))"
   ]
  },
  {
   "cell_type": "markdown",
   "metadata": {},
   "source": [
    "# [8]"
   ]
  },
  {
   "cell_type": "code",
   "execution_count": 7,
   "metadata": {},
   "outputs": [
    {
     "data": {
      "text/latex": [
       "$$\\left[\\begin{matrix}- \\frac{8831}{31250} & - \\frac{360729}{312500}\\\\\\frac{2491}{3125} & - \\frac{8831}{31250}\\end{matrix}\\right]$$"
      ],
      "text/plain": [
       "⎡-8831   -360729 ⎤\n",
       "⎢──────  ────────⎥\n",
       "⎢31250    312500 ⎥\n",
       "⎢                ⎥\n",
       "⎢ 2491    -8831  ⎥\n",
       "⎢ ────    ────── ⎥\n",
       "⎣ 3125    31250  ⎦"
      ]
     },
     "execution_count": 7,
     "metadata": {},
     "output_type": "execute_result"
    }
   ],
   "source": [
    "Y.subs(l1,sym.Rational(259,10))"
   ]
  },
  {
   "cell_type": "markdown",
   "metadata": {},
   "source": [
    "# [10]"
   ]
  },
  {
   "cell_type": "code",
   "execution_count": 8,
   "metadata": {},
   "outputs": [
    {
     "data": {
      "image/png": "[encoded data removed]",
      "text/latex": [
       "$$0.0276854767382631$$"
      ],
      "text/plain": [
       "0.0276854767382631"
      ]
     },
     "execution_count": 8,
     "metadata": {},
     "output_type": "execute_result"
    }
   ],
   "source": [
    "W=sym.Abs(2e-3*Y[1]/1/3.14/(sym.sqrt(-D)))\n",
    "w=sym.sqrt(W)\n",
    "\n",
    "w.subs(l1,25.9)"
   ]
  },
  {
   "cell_type": "markdown",
   "metadata": {},
   "source": [
    "# [11]"
   ]
  },
  {
   "cell_type": "code",
   "execution_count": 9,
   "metadata": {
    "scrolled": false
   },
   "outputs": [
    {
     "data": {
      "image/png": "[encoded data removed]",
      "text/plain": [
       "<Figure size 432x288 with 1 Axes>"
      ]
     },
     "metadata": {
      "needs_background": "light"
     },
     "output_type": "display_data"
    },
    {
     "data": {
      "text/plain": [
       "<sympy.plotting.plot.Plot at 0x116031cc0>"
      ]
     },
     "execution_count": 9,
     "metadata": {},
     "output_type": "execute_result"
    }
   ],
   "source": [
    "sym.plot(w,(l1,24.8,28))"
   ]
  }
 ],
 "metadata": {
  "kernelspec": {
   "display_name": "Python 3",
   "language": "python",
   "name": "python3"
  },
  "language_info": {
   "codemirror_mode": {
    "name": "ipython",
    "version": 3
   },
   "file_extension": ".py",
   "mimetype": "text/x-python",
   "name": "python",
   "nbconvert_exporter": "python",
   "pygments_lexer": "ipython3",
   "version": "3.7.0"
  }
 },
 "nbformat": 4,
 "nbformat_minor": 2
}
